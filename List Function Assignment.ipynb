{
 "cells": [
  {
   "cell_type": "markdown",
   "id": "7c347191-1a6b-43c9-b98f-74a3b414d9ca",
   "metadata": {},
   "source": [
    "Q1. What is the syntax for adding an element to a list in Python?"
   ]
  },
  {
   "cell_type": "code",
   "execution_count": 5,
   "id": "7f1a8c8d-7e1b-414d-af05-23353ca106c9",
   "metadata": {},
   "outputs": [
    {
     "name": "stdout",
     "output_type": "stream",
     "text": [
      "[1, 2, 3, 5, 6, 7, 4]\n"
     ]
    }
   ],
   "source": [
    "my_list = [1, 2, 3,5,6,7]\n",
    "my_list.append(4)\n",
    "print(my_list) "
   ]
  },
  {
   "cell_type": "code",
   "execution_count": null,
   "id": "0196d9bf-4d73-407a-a676-662840cd5f13",
   "metadata": {},
   "outputs": [],
   "source": []
  },
  {
   "cell_type": "markdown",
   "id": "e9c31756-9a30-4141-aec9-c1b3a5f4ec92",
   "metadata": {},
   "source": [
    "Q2. What is the difference between remove() and pop() functions in Python?"
   ]
  },
  {
   "cell_type": "markdown",
   "id": "3bfccdf0-babf-49ee-95f7-daffab289088",
   "metadata": {},
   "source": [
    "Ans:\n",
    "    \n",
    "The remove() and pop() functions in Python are both used to remove elements from a list, but they work in different ways and have distinct characteristics:\n",
    "\n",
    "remove() function:\n",
    "\n",
    "Purpose: Removes the first occurrence of a specified value from the list.\n",
    "\n",
    "Syntax: list.remove(element)\n",
    "\n",
    "pop() function:\n",
    "\n",
    "Purpose: Removes and returns the element at a specified index. If no index is specified, it removes and returns the last element of the list.\n",
    "\n",
    "Syntax: list.pop([index])"
   ]
  },
  {
   "cell_type": "code",
   "execution_count": null,
   "id": "9357922e-65e0-462f-b2fe-9243250a345d",
   "metadata": {},
   "outputs": [],
   "source": []
  },
  {
   "cell_type": "markdown",
   "id": "9fb6ed9b-773e-438b-946d-42e567d6299c",
   "metadata": {},
   "source": [
    "Q3. Write a Python code to sort a list in descending order."
   ]
  },
  {
   "cell_type": "code",
   "execution_count": 6,
   "id": "e98bff18-3f75-44ef-9c0e-5cae3bf1f4b6",
   "metadata": {},
   "outputs": [
    {
     "name": "stdout",
     "output_type": "stream",
     "text": [
      "[7, 6, 5, 3, 2, 1]\n"
     ]
    }
   ],
   "source": [
    "my_list = [1, 2, 3,5,6,7]\n",
    "my_list.sort(reverse=True)\n",
    "print(my_list)"
   ]
  },
  {
   "cell_type": "code",
   "execution_count": null,
   "id": "f1718457-4a10-4348-a620-b34d21fffd6c",
   "metadata": {},
   "outputs": [],
   "source": []
  },
  {
   "cell_type": "markdown",
   "id": "3ef47d33-0b16-4d81-a438-b3813db02a93",
   "metadata": {},
   "source": [
    "Q4. Write a Python code to count the number of occurrences of an element in a list."
   ]
  },
  {
   "cell_type": "code",
   "execution_count": 7,
   "id": "0110d946-77b6-4ebc-9c9b-d89b3e05828e",
   "metadata": {},
   "outputs": [
    {
     "name": "stdout",
     "output_type": "stream",
     "text": [
      "The element 2 occurs 4 times in the list.\n"
     ]
    }
   ],
   "source": [
    "my_list = [1, 2, 3, 2, 2, 4, 5, 2, 6]\n",
    "element_to_count = 2\n",
    "\n",
    "count = my_list.count(element_to_count)\n",
    "print(f'The element {element_to_count} occurs {count} times in the list.')\n"
   ]
  },
  {
   "cell_type": "code",
   "execution_count": null,
   "id": "3b71c8b7-4d81-42c1-81e6-bfeac3024cc5",
   "metadata": {},
   "outputs": [],
   "source": []
  },
  {
   "cell_type": "markdown",
   "id": "eb4e0ba2-4a55-47f4-8ca6-2013f630b660",
   "metadata": {},
   "source": [
    "Q5. Write a Python code to reverse a list."
   ]
  },
  {
   "cell_type": "code",
   "execution_count": 9,
   "id": "dce25342-7921-4b29-bbc3-71561c3f9e1c",
   "metadata": {},
   "outputs": [
    {
     "name": "stdout",
     "output_type": "stream",
     "text": [
      "[6, 2, 5, 4, 2, 2, 3, 2, 1]\n"
     ]
    }
   ],
   "source": [
    "my_list = [1, 2, 3, 2, 2, 4, 5, 2, 6]\n",
    "my_list.reverse()\n",
    "print(my_list)"
   ]
  },
  {
   "cell_type": "code",
   "execution_count": null,
   "id": "f9d42f0a-d425-41c5-b2c1-3b044e426ad5",
   "metadata": {},
   "outputs": [],
   "source": []
  }
 ],
 "metadata": {
  "kernelspec": {
   "display_name": "Python 3 (ipykernel)",
   "language": "python",
   "name": "python3"
  },
  "language_info": {
   "codemirror_mode": {
    "name": "ipython",
    "version": 3
   },
   "file_extension": ".py",
   "mimetype": "text/x-python",
   "name": "python",
   "nbconvert_exporter": "python",
   "pygments_lexer": "ipython3",
   "version": "3.10.8"
  }
 },
 "nbformat": 4,
 "nbformat_minor": 5
}
